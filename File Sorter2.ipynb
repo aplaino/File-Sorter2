{
  "cells": [
   {
    "cell_type": "code",
    "execution_count": 1,
    "id": "f6126750-25d2-4457-8da0-15308b6c45c6",
    "metadata": {},
    "outputs": [
     {
      "name": "stdout",
      "output_type": "stream",
      "text": [
       "File sorting complete. Check file_sorter.log for details.\n"
      ]
     }
    ],
    "source": [
     "import os\n",
     "import shutil\n",
     "import logging\n",
     "\n",
     "# Configure logging to track changes\n",
     "logging.basicConfig(\n",
     "    filename=\"file_sorter.log\", \n",
     "    level=logging.INFO,\n",
     "    format=\"%(asctime)s - %(levelname)s - %(message)s\"\n",
     ")\n",
     "\n",
     "# Define the directory path where files need to be sorted\n",
     "path = r\"C:/Users/aplai/Desktop/\"  # Update this to the desired path\n",
     "\n",
     "# List all files in the directory\n",
     "try:\n",
     "    file_names = os.listdir(path)\n",
     "except FileNotFoundError as e:\n",
     "    logging.error(f\"Directory not found: {e}\")\n",
     "    print(\"Error: Specified directory not found.\")\n",
     "    exit()\n",
     "\n",
     "# Define file categories and their respective folders\n",
     "file_categories = {\n",
     "    \".csv\": \"csv_files\",\n",
     "    \".png\": \"png_files\",\n",
     "    \".txt\": \"txt_files\"\n",
     "}\n",
     "\n",
     "# Create folders if they don't exist\n",
     "for folder in file_categories.values():\n",
     "    folder_path = os.path.join(path, folder)\n",
     "    if not os.path.exists(folder_path):\n",
     "        try:\n",
     "            os.makedirs(folder_path)\n",
     "            logging.info(f\"Created folder: {folder_path}\")\n",
     "        except OSError as e:\n",
     "            logging.error(f\"Error creating folder {folder_path}: {e}\")\n",
     "            print(f\"Error: Could not create folder {folder_path}.\")\n",
     "\n",
     "# Move files into respective folders\n",
     "for file in file_names:\n",
     "    file_path = os.path.join(path, file)\n",
     "    \n",
     "    # Check if it is a file\n",
     "    if os.path.isfile(file_path):\n",
     "        for extension, folder in file_categories.items():\n",
     "            if file.lower().endswith(extension):\n",
     "                dest_folder = os.path.join(path, folder)\n",
     "                dest_path = os.path.join(dest_folder, file)\n",
     "                \n",
     "                try:\n",
     "                    shutil.move(file_path, dest_path)\n",
     "                    logging.info(f\"Moved: {file} -> {dest_folder}\")\n",
     "                except shutil.Error as e:\n",
     "                    logging.error(f\"Error moving {file}: {e}\")\n",
     "                    print(f\"Error: Could not move {file}.\")\n",
     "                except PermissionError as e:\n",
     "                    logging.error(f\"Permission denied for {file}: {e}\")\n",
     "                    print(f\"Error: Permission denied for {file}.\")\n",
     "\n",
     "print(\"File sorting complete. Check file_sorter.log for details.\")\n"
    ]
   }
  ],
  "metadata": {
   "kernelspec": {
    "display_name": "Python 3 (ipykernel)",
    "language": "python",
    "name": "python3"
   },
   "language_info": {
    "codemirror_mode": {
     "name": "ipython",
     "version": 3
    },
    "file_extension": ".py",
    "mimetype": "text/x-python",
    "name": "python",
    "nbconvert_exporter": "python",
    "pygments_lexer": "ipython3",
    "version": "3.9.13"
   }
  },
  "nbformat": 4,
  "nbformat_minor": 5
 }
