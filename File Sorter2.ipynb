import os
import shutil
import logging

# Configure logging to track changes
logging.basicConfig(
    filename="file_sorter.log", 
    level=logging.INFO,
    format="%(asctime)s - %(levelname)s - %(message)s"
)

# Define the directory path where files need to be sorted
path = r"C:/Users/aplai/Desktop/"  # Update this to the desired path

# List all files in the directory
try:
    file_names = os.listdir(path)
except FileNotFoundError as e:
    logging.error(f"Directory not found: {e}")
    print("Error: Specified directory not found.")
    exit()

# Define file categories and their respective folders
file_categories = {
    ".csv": "csv_files",
    ".png": "png_files",
    ".txt": "txt_files"
}

# Create folders if they don't exist
for folder in file_categories.values():
    folder_path = os.path.join(path, folder)
    if not os.path.exists(folder_path):
        try:
            os.makedirs(folder_path)
            logging.info(f"Created folder: {folder_path}")
        except OSError as e:
            logging.error(f"Error creating folder {folder_path}: {e}")
            print(f"Error: Could not create folder {folder_path}.")

# Move files into respective folders
for file in file_names:
    file_path = os.path.join(path, file)
    
    # Check if it is a file
    if os.path.isfile(file_path):
        for extension, folder in file_categories.items():
            if file.lower().endswith(extension):
                dest_folder = os.path.join(path, folder)
                dest_path = os.path.join(dest_folder, file)
                
                try:
                    shutil.move(file_path, dest_path)
                    logging.info(f"Moved: {file} -> {dest_folder}")
                except shutil.Error as e:
                    logging.error(f"Error moving {file}: {e}")
                    print(f"Error: Could not move {file}.")
                except PermissionError as e:
                    logging.error(f"Permission denied for {file}: {e}")
                    print(f"Error: Permission denied for {file}.")

print("File sorting complete. Check file_sorter.log for details.")
